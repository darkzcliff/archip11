{
  "nbformat": 4,
  "nbformat_minor": 0,
  "metadata": {
    "colab": {
      "provenance": [],
      "authorship_tag": "ABX9TyNobD5QqLP+3peSKifx7KtT",
      "include_colab_link": true
    },
    "kernelspec": {
      "name": "python3",
      "display_name": "Python 3"
    },
    "language_info": {
      "name": "python"
    }
  },
  "cells": [
    {
      "cell_type": "markdown",
      "metadata": {
        "id": "view-in-github",
        "colab_type": "text"
      },
      "source": [
        "<a href=\"https://colab.research.google.com/github/darkzcliff/archip11/blob/main/materi4.ipynb\" target=\"_parent\"><img src=\"https://colab.research.google.com/assets/colab-badge.svg\" alt=\"Open In Colab\"/></a>"
      ]
    },
    {
      "cell_type": "markdown",
      "source": [
        "## Transformasi\n",
        "* Buatlah fungsi untuk menghitung translasi, dilatasi, dan rotasi dengan sebuah titik P (3, 5).\n",
        "1. Translasi dengan tx = 2 dan ty = -1, tentukan koordinat titik baru setelah translasi\n",
        "2. Dilatasi dengan sx = 2 dan sy = -1, tentukan koordinat titik baru setelah dilatasi\n",
        "3. Rotasi dengan sudut = 30 derajat, tentukan koordinat titik baru setelah rotasi."
      ],
      "metadata": {
        "id": "UQbKFsWVS4LR"
      }
    },
    {
      "cell_type": "code",
      "source": [
        "import math\n",
        "\n",
        "titik_awal = (3, 5)\n",
        "\n",
        "def translasi(kordinat, tx, ty):\n",
        "    x, y = kordinat\n",
        "    tx += x\n",
        "    ty += y\n",
        "\n",
        "    def run_translasi():\n",
        "        print(\"Hasil translasi\\t\\t: ({0}, {1})\".format(tx, ty))\n",
        "\n",
        "    run_translasi()\n",
        "\n",
        "\n",
        "def dilatasi(kordinat, sx, sy):\n",
        "    x, y = kordinat\n",
        "    sx *= x\n",
        "    sy *= y\n",
        "\n",
        "    def run_dilatasi():\n",
        "        print(\"Titik setelah dilatasi\\t: ({0}, {1})\".format(sx, sy))\n",
        "\n",
        "    run_dilatasi()\n",
        "\n",
        "\n",
        "def rotasi(kordinat, sudut):\n",
        "    x, y = kordinat\n",
        "    radian = math.radians(sudut)\n",
        "    x = x * math.cos(radian) - y * math.sin(radian)\n",
        "    y = x * math.sin(radian) + y * math.cos(radian)\n",
        "\n",
        "    def run_rotasi():\n",
        "        print(\"Titik setelah rotasi\\t: ({}, {})\".format(x, y))\n",
        "\n",
        "    run_rotasi()\n",
        "\n",
        "\n",
        "translasi(titik_awal, 2, -1)\n",
        "dilatasi(titik_awal, 2, -1)\n",
        "rotasi(titik_awal, 30)\n"
      ],
      "metadata": {
        "colab": {
          "base_uri": "https://localhost:8080/"
        },
        "id": "RtD7Rw-R3f92",
        "outputId": "e88078f3-91fe-4a97-9481-eb2dc57b2caf"
      },
      "execution_count": null,
      "outputs": [
        {
          "output_type": "stream",
          "name": "stdout",
          "text": [
            "Hasil translasi\t\t: (5, 4)\n",
            "Titik setelah dilatasi\t: (6, -5)\n",
            "Titik setelah rotasi\t: (0.09807621135331646, 4.379165124598852)\n"
          ]
        }
      ]
    },
    {
      "cell_type": "markdown",
      "source": [
        "## Persamaan Garis 2 Titik\n",
        "Diketahui dua titik A(1, 3) dan B(5, 9). Cari persamaan garis lurus menggunakan rumus: $$y=mx+c$$"
      ],
      "metadata": {
        "id": "qAMZCMFt4tTy"
      }
    },
    {
      "cell_type": "markdown",
      "source": [
        "#### Diket:\n",
        "$$ x_1 = 1 $$\n",
        "$$ y_1 = 4 $$\n",
        "$$ x_2 = 0 $$\n",
        "$$ y_2 = 9 $$\n",
        "\n",
        "-----------------------\n",
        "### Ditanya:\n",
        "$$ c? $$\n",
        "\n",
        "-----------------------\n",
        "#### Jawab:\n",
        "\n",
        "\n",
        "##### Cari Gradien (m)\n",
        "\n",
        "$$ m = \\frac{y_2-y_1}{x_2-x_1} $$ </br>\n",
        "$$ m = \\frac{9-4}{0-1} $$ </br>\n",
        "$$ m = -5 $$\n",
        "\n",
        "##### Cari titik potong sb.Y (c)\n",
        "$$ c = y_1 - mx_1 $$\n",
        "$$ c = 4 - (-5)(1) $$\n",
        "$$ c = 9 $$\n",
        "\n",
        "##### Hasil\n",
        "$$ y = mx+c $$\n",
        "$$ y = -5x+9 $$"
      ],
      "metadata": {
        "id": "gmudAkiN1GX5"
      }
    },
    {
      "cell_type": "code",
      "source": [
        "def kordinat(x, y):\n",
        "    return x, y\n",
        "\n",
        "def rumus(p1, p2):\n",
        "    def hitung_m(p1, p2):\n",
        "        x1, y1 = p1\n",
        "        x2, y2 = p2\n",
        "        return (y2 - y1) / (x2 - x1)\n",
        "\n",
        "    M = hitung_m(p1, p2)\n",
        "    x, y = p1\n",
        "\n",
        "    C = y - M * x  # y = mx+c\n",
        "    persamaan = f\"y = {M:.2f}x + {C:.2f}\"\n",
        "    return persamaan\n",
        "\n",
        "# NIM akhir 1409\n",
        "x1 = int(input('Kordinat x1: '))\n",
        "y1 = int(input('Kordinat y1: '))\n",
        "x2 = int(input('Kordinat x2: '))\n",
        "y2 = int(input('Kordinat y2: '))\n",
        "\n",
        "titik_A = kordinat(x1, y1)\n",
        "titik_B = kordinat(x2, y2)\n",
        "print(\"Persamaan garis yang melalui titik A dan B: \", rumus(titik_A, titik_B))"
      ],
      "metadata": {
        "colab": {
          "base_uri": "https://localhost:8080/"
        },
        "id": "7NuLeTBN7IKo",
        "outputId": "91d0874e-c341-41d4-9a36-b2ac6e613e6d"
      },
      "execution_count": 30,
      "outputs": [
        {
          "output_type": "stream",
          "name": "stdout",
          "text": [
            "Kordinat x1: 1\n",
            "Kordinat y1: 4\n",
            "Kordinat x2: 0\n",
            "Kordinat y2: 9\n",
            "Persamaan garis yang melalui titik A dan B:  y = -5.00x + 9.00\n"
          ]
        }
      ]
    },
    {
      "cell_type": "markdown",
      "source": [
        "## Persamaan Garis 1 Titik\n",
        "Tentukan persamaan garis lurus yang melalui titik (6,-2) dan bergradien 2. Gunakan rumus berikut untuk mencari `c`: $$y-y_1 = m(x-x_1)$$"
      ],
      "metadata": {
        "id": "7c8LBD6f7sPg"
      }
    },
    {
      "cell_type": "markdown",
      "source": [
        "#### Diket:\n",
        "$$ x_1 = 4 $$\n",
        "$$ y_1 = 0 $$\n",
        "$$ m = 9 $$\n",
        "\n",
        "-----------------------\n",
        "#### Ditanya:\n",
        "$$ c? $$\n",
        "\n",
        "-----------------------\n",
        "\n",
        "#### Jawab:\n",
        "##### Cari titik potong (c)\n",
        "$$ c = y_1 - mx_1 $$\n",
        "$$ c = 0 - 9(4) $$\n",
        "$$ c = -36 $$\n",
        "\n",
        "Jadi, persamaan garis tersebut adalah `y = 9x - 36`."
      ],
      "metadata": {
        "id": "aXwyO-T38uio"
      }
    },
    {
      "cell_type": "code",
      "source": [
        "def kordinat(x, y):\n",
        "    return x, y\n",
        "\n",
        "def rumus(x1, y1, M):\n",
        "    C = y1 - M * x1  # y - y1 = m(x - x1)\n",
        "    persamaan = f\"y = {M:.2f}x + {C:.2f}\"\n",
        "    return persamaan\n",
        "\n",
        "x1 = int(input('Nilai titik pertama\\t: '))\n",
        "y1 = int(input('Nilai titik kedua\\t: '))\n",
        "m = int(input('Nilai Gradien\\t\\t: '))\n",
        "persamaan_garis = rumus(x1, y1, m)\n",
        "\n",
        "print(f\"Persamaan garis yang melalui titik ({x1},{y1}) dan bergradien {m}: \", persamaan_garis)"
      ],
      "metadata": {
        "colab": {
          "base_uri": "https://localhost:8080/"
        },
        "id": "nEd_l6Qb9gfV",
        "outputId": "23eecb64-e0fb-4436-9edc-aa9d4d87d75f"
      },
      "execution_count": null,
      "outputs": [
        {
          "output_type": "stream",
          "name": "stdout",
          "text": [
            "Nilai titik pertama\t: 4\n",
            "Nilai titik kedua\t: 0\n",
            "Nilai Gradien\t\t: 9\n",
            "Persamaan garis yang melalui titik (4,0) dan bergradien 9:  y = 9.00x + -36.00\n"
          ]
        }
      ]
    },
    {
      "cell_type": "markdown",
      "source": [
        "# Tugas Praktikum 🏃💨\n",
        "### NIM Ganjil :\n",
        "*   Diketahui sebuah sebuah titik A (3,4) dengan gradien 2.\n",
        "*   Translasi dengan tx = 2 dan ty = -3.\n",
        "*   Rotasi sejajar sumbu x positif sebesar 60 derajat.\n",
        "*   perbesaran skala dengan faktor skala 1.5 pada sumbu x dan faktor skala 2 pada sumbu y.\n",
        "\n"
      ],
      "metadata": {
        "id": "qroqAUGd_Qvl"
      }
    },
    {
      "cell_type": "markdown",
      "source": [
        "Rumus ... 1234"
      ],
      "metadata": {
        "id": "fOk6VCXH9XUG"
      }
    },
    {
      "cell_type": "code",
      "source": [
        "import math\n",
        "\n",
        "def transformasi(func):\n",
        "    def innerBeauty(kordinat, *args):\n",
        "        result = func(kordinat, *args)\n",
        "        return result\n",
        "    return innerBeauty\n",
        "\n",
        "@transformasi\n",
        "def translasi(kordinat, tx, ty):\n",
        "    x, y = kordinat\n",
        "    tx += x\n",
        "    ty += y\n",
        "    return tx, ty\n",
        "\n",
        "@transformasi\n",
        "def dilatasi(kordinat, sx, sy):\n",
        "    x, y = kordinat\n",
        "    sx *= x\n",
        "    sy *= y\n",
        "    return sx, sy\n",
        "\n",
        "@transformasi\n",
        "def rotasi(kordinat, sudut):\n",
        "    x, y = kordinat\n",
        "    radian = math.radians(sudut)\n",
        "    x2 = x * math.cos(radian) - y * math.sin(radian)\n",
        "    y2 = x * math.sin(radian) + y * math.cos(radian)\n",
        "    return x2, y2\n",
        "\n",
        "x1 = int(input('Kordinat x1\\t: '))\n",
        "y1 = int(input('Kordinat y1\\t: '))\n",
        "m = int(input('Nilai Gradien\\t: '))\n",
        "\n",
        "\n",
        "hasil_eq = \"y = {:.2f}x + {:.2f}\".format(m, -m*x1 + y1)\n",
        "print(\"Persamaan garis yang melalui titik ({0}, {1}) dengan gradien {2}: {3}\".format(x1, y1, m, hasil_eq))\n",
        "\n",
        "tramsform = translasi((x1, y1), 2, -3)\n",
        "tramsform = rotasi(tramsform, 60)\n",
        "tramsform = dilatasi(tramsform, 1.5, 2)\n",
        "\n",
        "final_eq = \"y = {:.2f}x + {:.2f}\".format(m, tramsform[1] - m * tramsform[0])\n",
        "print(\"Persamaan garis baru setelah transformasi: \", final_eq)\n"
      ],
      "metadata": {
        "colab": {
          "base_uri": "https://localhost:8080/"
        },
        "id": "GqH9QUc_Dgfp",
        "outputId": "cc4669ef-0c2c-48a6-c346-57aa8ed284db"
      },
      "execution_count": 28,
      "outputs": [
        {
          "output_type": "stream",
          "name": "stdout",
          "text": [
            "Kordinat x1\t: 4\n",
            "Kordinat y1\t: 0\n",
            "Nilai Gradien\t: 9\n",
            "Persamaan garis yang melalui titik (4, 0) dengan gradien 9: y = 9.00x + -36.00\n",
            "Persamaan garis baru setelah transformasi:  y = 9.00x + -68.18\n"
          ]
        }
      ]
    }
  ]
}