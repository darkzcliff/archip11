{
  "nbformat": 4,
  "nbformat_minor": 0,
  "metadata": {
    "colab": {
      "provenance": [],
      "collapsed_sections": [
        "6zTKp4ZpU0Ay",
        "VyYUp5moaZ8D"
      ],
      "authorship_tag": "ABX9TyOo5xcc1AsWIpCqWcqzt895",
      "include_colab_link": true
    },
    "kernelspec": {
      "name": "python3",
      "display_name": "Python 3"
    },
    "language_info": {
      "name": "python"
    }
  },
  "cells": [
    {
      "cell_type": "markdown",
      "metadata": {
        "id": "view-in-github",
        "colab_type": "text"
      },
      "source": [
        "<a href=\"https://colab.research.google.com/github/darkzcliff/archip11/blob/main/prak5.ipynb\" target=\"_parent\"><img src=\"https://colab.research.google.com/assets/colab-badge.svg\" alt=\"Open In Colab\"/></a>"
      ]
    },
    {
      "cell_type": "markdown",
      "source": [
        "### Kegiatan 1\n",
        "<p>\n",
        "Diberikan sebuah list data berisi nilai-nilai ujian mahasiswa: [75, 80, 90, 65, 70, 85, 95, 78, 88, 92]. Buatlah sebuah program untuk menghitung rata-rata dari nilai-nilai ini. Setelah itu, visualisasikan data tersebut dalam bentuk diagram batang menggunakan plt.bar(x,y).\n",
        "</p>"
      ],
      "metadata": {
        "id": "6zTKp4ZpU0Ay"
      }
    },
    {
      "cell_type": "code",
      "execution_count": null,
      "metadata": {
        "id": "7615BzGEJXFY"
      },
      "outputs": [],
      "source": [
        "import matplotlib.pyplot as plt\n",
        "from functools import reduce\n",
        "\n",
        "data = [75, 80, 90, 65, 70, 85, 95, 78, 88, 92]\n",
        "\n",
        "avg = reduce(lambda x, y: x + y, data) / len(data)\n",
        "mhs = list(map(lambda num: f\"{num + 1}\", range(len(data))))\n",
        "\n",
        "plt.bar(mhs, data, color='skyblue')\n",
        "plt.axhline(y=avg, color='r', linestyle='-', label=f'Rata-rata = {avg:.2f}')\n",
        "\n",
        "plt.xlabel('Mahasiswa')\n",
        "plt.ylabel('Nilai Ujian')\n",
        "plt.title('Diagram Batang Nilai Ujian Mahasiswa')\n",
        "\n",
        "plt.legend()\n",
        "plt.show()"
      ]
    },
    {
      "cell_type": "markdown",
      "source": [
        "### Kegiatan 2\n",
        "<p>\n",
        "Anda diminta untuk membuat visualisasi scatter plot yang menunjukkan hubungan antara harga produk dan jumlah produk yang terjual serta bar untuk menyajikan pendapatan produk.\n",
        "</p>"
      ],
      "metadata": {
        "id": "VyYUp5moaZ8D"
      }
    },
    {
      "cell_type": "code",
      "source": [
        "import matplotlib.pyplot as plt\n",
        "import numpy as np\n",
        "\n",
        "data = [\n",
        "    (\"Produk A\", 50, 10),\n",
        "    (\"Produk B\", 30, 25),\n",
        "    (\"Produk C\", 20, 30),\n",
        "    (\"Produk D\", 60, 8),\n",
        "    (\"Produk E\", 40, 15),\n",
        "    (\"Produk F\", 70, 5),\n",
        "]\n",
        "\n",
        "harga_produk = [item[1] for item in data]\n",
        "jumlah_terjual = [item[2] for item in data]\n",
        "\n",
        "plt.scatter(harga_produk, jumlah_terjual)\n",
        "plt.xlabel(\"Harga Produk\")\n",
        "plt.ylabel(\"Jumlah Produk Terjual\")\n",
        "plt.title(\"Hubungan Harga dan Jumlah Produk Terjual\")\n",
        "plt.show()\n",
        "\n",
        "profit = list(map(lambda item: item[1] * item[2], data))\n",
        "\n",
        "produk_labels = [item[0] for item in data]\n",
        "plt.bar(produk_labels, profit, color='skyblue')\n",
        "plt.xlabel(\"Produk\")\n",
        "plt.ylabel(\"Pendapatan\")\n",
        "plt.title(\"Chart Pendapatan Produk\")\n",
        "plt.show()"
      ],
      "metadata": {
        "id": "KFV9lGT-YUkN"
      },
      "execution_count": null,
      "outputs": []
    },
    {
      "cell_type": "markdown",
      "source": [
        "### Kegiatan 3\n",
        "<p> Diberikan sebuah list data berisi tinggi badan beberapa individu dalam sentimeter: [165, 170, 155, 180, 160, 175, 165, 185, 175, 170, 160]. Buatlah sebuah program untuk menghitung frekuensi tinggi badan dalam interval tertentu (misalnya: 150-160, 161-170, dst.) dan visualisasikan data tersebut dalam bentuk histogram dan kurva PDF dari distribusi normal yang dihasilkan dari data tinggi badan yang ada.\n",
        "</p>"
      ],
      "metadata": {
        "id": "vTMHtaivi74x"
      }
    },
    {
      "cell_type": "code",
      "source": [
        "import matplotlib.pyplot as plt\n",
        "import numpy as np\n",
        "from scipy.stats import norm\n",
        "\n",
        "def filtered(heights, interval):\n",
        "    grouped = {}\n",
        "\n",
        "    for height in heights:\n",
        "        min_height = (height // interval) * interval\n",
        "        if min_height not in grouped:\n",
        "            grouped[min_height] = {'interval': f\"{min_height}-{min_height + interval - 1}\", 'frekuensi': 0}\n",
        "        grouped[min_height]['frekuensi'] += 1\n",
        "\n",
        "    return grouped\n",
        "\n",
        "data = [165, 170, 155, 172, 180, 160, 175, 165, 185, 175, 170, 160]\n",
        "interval = 10\n",
        "\n",
        "grouped_heights = filtered(data, interval)\n",
        "\n",
        "plt.hist(data, bins=range(150, 199, interval), density=True)\n",
        "\n",
        "get_mean = np.mean(data)\n",
        "deviasi = np.std(data)\n",
        "\n",
        "kurva = np.linspace(min(data), max(data), 100)\n",
        "plt.plot(kurva, norm.pdf(kurva, get_mean, deviasi), label='PDF', linewidth=2,  color=\"red\")\n",
        "\n",
        "plt.xlabel('Tinggi Badan')\n",
        "plt.ylabel('Frekuensi')\n",
        "plt.title('Histogram Tinggi Badan')\n",
        "\n",
        "plt.legend()\n",
        "plt.show()"
      ],
      "metadata": {
        "id": "CGFaKbDmbV1H",
        "colab": {
          "base_uri": "https://localhost:8080/",
          "height": 472
        },
        "outputId": "cae96bdd-1f37-47e6-b132-ec625c4de1fb"
      },
      "execution_count": 3,
      "outputs": [
        {
          "output_type": "display_data",
          "data": {
            "text/plain": [
              "<Figure size 640x480 with 1 Axes>"
            ],
            "image/png": "[encoded data removed]"
          },
          "metadata": {}
        }
      ]
    }
  ]
}