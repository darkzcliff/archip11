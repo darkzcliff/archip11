{
  "nbformat": 4,
  "nbformat_minor": 0,
  "metadata": {
    "colab": {
      "provenance": [],
      "include_colab_link": true
    },
    "kernelspec": {
      "name": "python3",
      "display_name": "Python 3"
    },
    "language_info": {
      "name": "python"
    }
  },
  "cells": [
    {
      "cell_type": "markdown",
      "metadata": {
        "id": "view-in-github",
        "colab_type": "text"
      },
      "source": [
        "<a href=\"https://colab.research.google.com/github/darkzcliff/archip11/blob/main/materi3.ipynb\" target=\"_parent\"><img src=\"https://colab.research.google.com/assets/colab-badge.svg\" alt=\"Open In Colab\"/></a>"
      ]
    },
    {
      "cell_type": "markdown",
      "source": [
        "### Kegiatan 1"
      ],
      "metadata": {
        "id": "xumFTjqq8Lkt"
      }
    },
    {
      "cell_type": "code",
      "execution_count": null,
      "metadata": {
        "colab": {
          "base_uri": "https://localhost:8080/"
        },
        "id": "0hQajeqK8KWj",
        "outputId": "549c4164-c103-4499-d8b1-d620b42866de"
      },
      "outputs": [
        {
          "output_type": "stream",
          "name": "stdout",
          "text": [
            "[[3, 3, 7, 21], [5, 5, 8, 11], [7, 1, 5, 33]]\n",
            "\n",
            "- - - - - - - - - - - -\n",
            "\n",
            "Minggu\t:  3\n",
            "Hari\t:  3\n",
            "Jam\t:  7\n",
            "Menit\t:  21\n",
            "Hasil\t: 35001\n",
            "\n",
            "[35001]\n",
            "\n",
            "- - - - - - - - - - - -\n",
            "\n",
            "Minggu\t:  5\n",
            "Hari\t:  5\n",
            "Jam\t:  8\n",
            "Menit\t:  11\n",
            "Hasil\t: 58091\n",
            "\n",
            "[35001, 58091]\n",
            "\n",
            "- - - - - - - - - - - -\n",
            "\n",
            "Minggu\t:  7\n",
            "Hari\t:  1\n",
            "Jam\t:  5\n",
            "Menit\t:  33\n",
            "Hasil\t: 72333\n",
            "\n",
            "[35001, 58091, 72333]\n"
          ]
        }
      ],
      "source": [
        "data = [\"3 minggu 3 hari 7 jam 21 menit\",\n",
        "        \"5 minggu 5 hari 8 jam 11 menit\",\n",
        "        \"7 minggu 1 hari 5 jam 33 menit\"]\n",
        "\n",
        "\n",
        "def conve(w=0):\n",
        "    def days(d=0):\n",
        "        def hours(h=0):\n",
        "            def minutes(m=0):\n",
        "                return ((w*7+d)*24+h)*60+m\n",
        "            return minutes\n",
        "        return hours\n",
        "    return days\n",
        "\n",
        "\n",
        "extract_datas = list(map(lambda i: [int(num)\n",
        "                     for num in i.split() if num.isdigit()], data))\n",
        "print(extract_datas)\n",
        "\n",
        "save_res = []\n",
        "for i in extract_datas:\n",
        "    print(\"\\n- - - - - - - - - - - -\\n\")\n",
        "    a = int(i[0])\n",
        "    b = int(i[1])\n",
        "    c = int(i[2])\n",
        "    d = int(i[3])\n",
        "\n",
        "    print(\"Minggu\\t: \", a)\n",
        "    print(\"Hari\\t: \", b)\n",
        "    print(\"Jam\\t: \", c)\n",
        "    print(\"Menit\\t: \", d)\n",
        "    res = conve(a)(b)(c)(d)\n",
        "    print(\"Hasil\\t: {}\\n\".format(res))\n",
        "    save_res.append(res)\n",
        "\n",
        "    print(str(save_res))"
      ]
    },
    {
      "cell_type": "markdown",
      "source": [
        "### Kegiatan 2"
      ],
      "metadata": {
        "id": "mQpYbFbO8RKv"
      }
    },
    {
      "cell_type": "code",
      "source": [
        "data = [\"3 minggu 3 hari 7 jam 21 menit\",\n",
        "        \"5 minggu 5 hari 8 jam 11 menit\",\n",
        "        \"7 minggu 1 hari 5 jam 33 menit\"]\n",
        "\n",
        "def check(char):\n",
        "    return char.isdigit()\n",
        "\n",
        "\n",
        "value = []\n",
        "for i in data:\n",
        "    spl = i.split()\n",
        "    checker = list(filter(check, spl))\n",
        "    value.append(checker)\n",
        "\n",
        "for i in value: print(i)"
      ],
      "metadata": {
        "colab": {
          "base_uri": "https://localhost:8080/"
        },
        "id": "E6XxiRmN8TDw",
        "outputId": "2f0cfea4-2623-468e-80ac-ecc4a4f5363b"
      },
      "execution_count": null,
      "outputs": [
        {
          "output_type": "stream",
          "name": "stdout",
          "text": [
            "['3', '3', '7', '21']\n",
            "['5', '5', '8', '11']\n",
            "['7', '1', '5', '33']\n"
          ]
        }
      ]
    },
    {
      "cell_type": "markdown",
      "source": [
        "### Kegiatan 3"
      ],
      "metadata": {
        "id": "gspz1-rb8mFT"
      }
    },
    {
      "cell_type": "code",
      "source": [
        "random_list = [105, 3.1, \"Hello\", 737, \"Python\", 2.7, \"World\", 412, 5.5, \"AI\"]\n",
        "\n",
        "# Filter untuk memisahkan nilai float, int, dan string\n",
        "\n",
        "# Map untuk memetakan nilai int menjadi satuan, puluhan, dan ratusan\n",
        "\n",
        "def check_float(x):\n",
        "    return isinstance(x, float)\n",
        "\n",
        "\n",
        "def check_int(x):\n",
        "    return isinstance(x, int)\n",
        "\n",
        "\n",
        "def check_str(x):\n",
        "    return isinstance(x, str)\n",
        "\n",
        "\n",
        "float_val = tuple(filter(check_float, random_list))\n",
        "int_val = list(filter(check_int, random_list))\n",
        "str_val = list(filter(check_str, random_list))\n",
        "\n",
        "\n",
        "def pecahan(value):\n",
        "    ratusan = value // 100\n",
        "    sisa = value % 100\n",
        "    puluhan = sisa // 10\n",
        "    satuan = sisa % 10\n",
        "    return {'ratusan': ratusan, 'puluhan': puluhan, 'satuan': satuan}\n",
        "\n",
        "\n",
        "mapped = list(map(pecahan, int_val))\n",
        "\n",
        "# Output\n",
        "print(\"Data Float:\", float_val)\n",
        "print(\"Data Int: \")\n",
        "for item in mapped:\n",
        "    print(item)\n",
        "\n",
        "print(\"Data String:\", str_val)"
      ],
      "metadata": {
        "colab": {
          "base_uri": "https://localhost:8080/"
        },
        "id": "S2qakCsS8XPT",
        "outputId": "fb9561d7-367f-48f2-949b-be173d02f2f5"
      },
      "execution_count": null,
      "outputs": [
        {
          "output_type": "stream",
          "name": "stdout",
          "text": [
            "Data Float: (3.1, 2.7, 5.5)\n",
            "Data Int: \n",
            "{'ratusan': 1, 'puluhan': 0, 'satuan': 5}\n",
            "{'ratusan': 7, 'puluhan': 3, 'satuan': 7}\n",
            "{'ratusan': 4, 'puluhan': 1, 'satuan': 2}\n",
            "Data String: ['Hello', 'Python', 'World', 'AI']\n"
          ]
        }
      ]
    }
  ]
}